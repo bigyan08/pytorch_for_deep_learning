{
  "cells": [
    {
      "cell_type": "code",
      "execution_count": 2,
      "metadata": {
        "id": "acceZZ1jVWBS"
      },
      "outputs": [],
      "source": [
        "import torch"
      ]
    },
    {
      "cell_type": "code",
      "execution_count": 3,
      "metadata": {
        "colab": {
          "base_uri": "https://localhost:8080/",
          "height": 35
        },
        "id": "MhuJfAhNWKzS",
        "outputId": "ec11446d-8150-48d6-acad-c9f20c2945ae"
      },
      "outputs": [
        {
          "data": {
            "text/plain": [
              "'2.4.1+cu121'"
            ]
          },
          "execution_count": 3,
          "metadata": {},
          "output_type": "execute_result"
        }
      ],
      "source": [
        "torch.__version__"
      ]
    },
    {
      "cell_type": "code",
      "execution_count": 4,
      "metadata": {
        "colab": {
          "base_uri": "https://localhost:8080/"
        },
        "id": "9d8VQMOAXdxA",
        "outputId": "27f88e74-e4e0-431b-9b06-a98987d56474"
      },
      "outputs": [
        {
          "data": {
            "text/plain": [
              "tensor(42)"
            ]
          },
          "execution_count": 4,
          "metadata": {},
          "output_type": "execute_result"
        }
      ],
      "source": [
        "scalar = torch.tensor(42)\n",
        "scalar"
      ]
    },
    {
      "cell_type": "code",
      "execution_count": 5,
      "metadata": {
        "colab": {
          "base_uri": "https://localhost:8080/"
        },
        "id": "-_nCGGA9Xngm",
        "outputId": "5f1adcd8-24a7-4752-ec75-bbeb8be16916"
      },
      "outputs": [
        {
          "data": {
            "text/plain": [
              "0"
            ]
          },
          "execution_count": 5,
          "metadata": {},
          "output_type": "execute_result"
        }
      ],
      "source": [
        "scalar.ndim #no of dimension, its a attribute. Check no of big brackets infront, that is ndim"
      ]
    },
    {
      "cell_type": "code",
      "execution_count": 6,
      "metadata": {
        "colab": {
          "base_uri": "https://localhost:8080/"
        },
        "id": "mMwlxvemX3Kw",
        "outputId": "1b66e244-6c55-4010-c10c-e4135a275ece"
      },
      "outputs": [
        {
          "data": {
            "text/plain": [
              "torch.Size([])"
            ]
          },
          "execution_count": 6,
          "metadata": {},
          "output_type": "execute_result"
        }
      ],
      "source": [
        "scalar.shape"
      ]
    },
    {
      "cell_type": "code",
      "execution_count": 7,
      "metadata": {
        "colab": {
          "base_uri": "https://localhost:8080/"
        },
        "id": "tuRXRnl5X840",
        "outputId": "1101f320-fecd-400c-96ee-c1d5921eba13"
      },
      "outputs": [
        {
          "name": "stdout",
          "output_type": "stream",
          "text": [
            "tensor([7])\n",
            "1\n",
            "torch.Size([1])\n"
          ]
        }
      ],
      "source": [
        "vector = torch.tensor([7])\n",
        "print(vector)\n",
        "print(vector.ndim)\n",
        "print(vector.shape)"
      ]
    },
    {
      "cell_type": "code",
      "execution_count": 8,
      "metadata": {
        "colab": {
          "base_uri": "https://localhost:8080/"
        },
        "id": "UVsEoDWQYQ_a",
        "outputId": "982a68d2-81c0-4ae5-9f7a-7c0eec472262"
      },
      "outputs": [
        {
          "name": "stdout",
          "output_type": "stream",
          "text": [
            "tensor([[1, 2],\n",
            "        [3, 4]])\n",
            "2\n",
            "torch.Size([2, 2])\n"
          ]
        }
      ],
      "source": [
        "matrix=torch.tensor([[1,2],[3,4]])\n",
        "print(matrix)\n",
        "print(matrix.ndim)\n",
        "print(matrix.shape)"
      ]
    },
    {
      "cell_type": "code",
      "execution_count": 9,
      "metadata": {
        "colab": {
          "base_uri": "https://localhost:8080/"
        },
        "id": "2x1dl0b4ZHPl",
        "outputId": "a58d2173-2aa3-490a-fcfb-a49b816cad73"
      },
      "outputs": [
        {
          "name": "stdout",
          "output_type": "stream",
          "text": [
            "tensor([[[1, 2, 3],\n",
            "         [4, 5, 6],\n",
            "         [7, 8, 9]]])\n",
            "3\n",
            "torch.Size([1, 3, 3])\n"
          ]
        }
      ],
      "source": [
        "tensor =torch.tensor([[[1,2,3],[4,5,6],[7,8,9]]])\n",
        "print(tensor)\n",
        "print(tensor.ndim)\n",
        "print(tensor.shape)"
      ]
    },
    {
      "cell_type": "code",
      "execution_count": 10,
      "metadata": {
        "colab": {
          "base_uri": "https://localhost:8080/"
        },
        "id": "iKH_NAYWZe5g",
        "outputId": "978c5ba0-8251-4c42-aedc-ed0d05d6421d"
      },
      "outputs": [
        {
          "name": "stdout",
          "output_type": "stream",
          "text": [
            "tensor([[[0.1443]],\n",
            "\n",
            "        [[0.6617]],\n",
            "\n",
            "        [[0.9709]]])\n"
          ]
        }
      ],
      "source": [
        "random_tensor= torch.rand(3,1,1)\n",
        "print(random_tensor)"
      ]
    },
    {
      "cell_type": "code",
      "execution_count": 11,
      "metadata": {
        "colab": {
          "base_uri": "https://localhost:8080/"
        },
        "id": "OcUPxbE6dNrp",
        "outputId": "b4d93004-d969-40a6-9a7a-b0425240f203"
      },
      "outputs": [
        {
          "name": "stdout",
          "output_type": "stream",
          "text": [
            "tensor([[[0., 0., 0.],\n",
            "         [0., 0., 0.],\n",
            "         [0., 0., 0.]],\n",
            "\n",
            "        [[0., 0., 0.],\n",
            "         [0., 0., 0.],\n",
            "         [0., 0., 0.]],\n",
            "\n",
            "        [[0., 0., 0.],\n",
            "         [0., 0., 0.],\n",
            "         [0., 0., 0.]],\n",
            "\n",
            "        [[0., 0., 0.],\n",
            "         [0., 0., 0.],\n",
            "         [0., 0., 0.]]])\n"
          ]
        }
      ],
      "source": [
        "zero_tensor = torch.zeros(size=(4,3,3))\n",
        "print(zero_tensor)"
      ]
    },
    {
      "cell_type": "code",
      "execution_count": 12,
      "metadata": {
        "colab": {
          "base_uri": "https://localhost:8080/"
        },
        "id": "DJLhIxY4d3gv",
        "outputId": "2113f82e-ef29-4388-a132-f8b2fd0b81aa"
      },
      "outputs": [
        {
          "name": "stdout",
          "output_type": "stream",
          "text": [
            "tensor([[[1., 1., 1.],\n",
            "         [1., 1., 1.],\n",
            "         [1., 1., 1.]],\n",
            "\n",
            "        [[1., 1., 1.],\n",
            "         [1., 1., 1.],\n",
            "         [1., 1., 1.]],\n",
            "\n",
            "        [[1., 1., 1.],\n",
            "         [1., 1., 1.],\n",
            "         [1., 1., 1.]],\n",
            "\n",
            "        [[1., 1., 1.],\n",
            "         [1., 1., 1.],\n",
            "         [1., 1., 1.]]])\n"
          ]
        }
      ],
      "source": [
        "ones_tensor = torch.ones(size=(4,3,3))\n",
        "print(ones_tensor)"
      ]
    },
    {
      "cell_type": "code",
      "execution_count": 13,
      "metadata": {
        "colab": {
          "base_uri": "https://localhost:8080/"
        },
        "id": "5SaqQmFOeJJ7",
        "outputId": "4c91fcc0-f20a-4890-8396-40a75c31cce7"
      },
      "outputs": [
        {
          "name": "stdout",
          "output_type": "stream",
          "text": [
            "tensor([[[1.]],\n",
            "\n",
            "        [[1.]],\n",
            "\n",
            "        [[1.]]])\n"
          ]
        }
      ],
      "source": [
        "tensor2 = torch.ones_like(random_tensor)\n",
        "print(tensor2)"
      ]
    },
    {
      "cell_type": "code",
      "execution_count": 14,
      "metadata": {
        "colab": {
          "base_uri": "https://localhost:8080/"
        },
        "id": "vH2T9mlQecwL",
        "outputId": "a42f6646-82a4-41c9-ba6b-eb39e5cdbec1"
      },
      "outputs": [
        {
          "name": "stdout",
          "output_type": "stream",
          "text": [
            "tensor([[[0.]],\n",
            "\n",
            "        [[0.]],\n",
            "\n",
            "        [[0.]]])\n",
            "torch.float32\n"
          ]
        }
      ],
      "source": [
        "tensor2 = torch.zeros_like(random_tensor)\n",
        "print(tensor2)\n",
        "print(tensor2.dtype)"
      ]
    },
    {
      "cell_type": "code",
      "execution_count": 15,
      "metadata": {
        "colab": {
          "base_uri": "https://localhost:8080/"
        },
        "id": "BYn89v8NelTJ",
        "outputId": "58e8f67f-335b-4597-a714-95b67f7d24df"
      },
      "outputs": [
        {
          "name": "stdout",
          "output_type": "stream",
          "text": [
            "tensor([ 0, 10, 20, 30, 40, 50, 60, 70, 80, 90])\n",
            "torch.int64\n"
          ]
        }
      ],
      "source": [
        "a = torch.arange(start = 0, end = 100, step = 10)\n",
        "print(a)\n",
        "print(a.dtype)"
      ]
    },
    {
      "cell_type": "code",
      "execution_count": 16,
      "metadata": {
        "colab": {
          "base_uri": "https://localhost:8080/"
        },
        "id": "GzaGK5pZe1wi",
        "outputId": "df441c17-cc39-4843-8a52-8a200c924ed7"
      },
      "outputs": [
        {
          "name": "stdout",
          "output_type": "stream",
          "text": [
            "tensor([1., 2., 3.], dtype=torch.float16)\n",
            "torch.float16\n"
          ]
        }
      ],
      "source": [
        "float_16_tensor = torch.tensor([1,2,3],dtype=torch.float16)\n",
        "print(float_16_tensor)\n",
        "print(float_16_tensor.dtype)"
      ]
    },
    {
      "cell_type": "code",
      "execution_count": 17,
      "metadata": {
        "colab": {
          "base_uri": "https://localhost:8080/"
        },
        "id": "HA8yFPMMfg_r",
        "outputId": "589bcd49-3e34-49ae-bfe1-3cf10fe589b7"
      },
      "outputs": [
        {
          "data": {
            "text/plain": [
              "tensor([[0.8823, 0.9150, 0.3829],\n",
              "        [0.9593, 0.3904, 0.6009]])"
            ]
          },
          "execution_count": 17,
          "metadata": {},
          "output_type": "execute_result"
        }
      ],
      "source": [
        "torch.manual_seed(42) # to preserve the random number\n",
        "torch.rand([2,3])"
      ]
    },
    {
      "cell_type": "markdown",
      "metadata": {
        "id": "Y9RHWOFpg1Gk"
      },
      "source": [
        "# importants: ndim,shape,dtype,device"
      ]
    },
    {
      "cell_type": "code",
      "execution_count": 18,
      "metadata": {
        "colab": {
          "base_uri": "https://localhost:8080/"
        },
        "id": "XoNMJayCgsOC",
        "outputId": "e2b194ff-0b8c-4ede-fae9-4c5361d2f849"
      },
      "outputs": [
        {
          "name": "stdout",
          "output_type": "stream",
          "text": [
            "cpu\n"
          ]
        }
      ],
      "source": [
        "device = 'cuda' if torch.cuda.is_available() else 'cpu'\n",
        "print(device)"
      ]
    },
    {
      "cell_type": "markdown",
      "metadata": {
        "id": "V9lFL8VqhU_k"
      },
      "source": [
        "#Operations"
      ]
    },
    {
      "cell_type": "code",
      "execution_count": 19,
      "metadata": {
        "colab": {
          "base_uri": "https://localhost:8080/"
        },
        "id": "5PU5XkiDhZku",
        "outputId": "c3adc6f6-3f45-4a63-f6e6-2970c28775eb"
      },
      "outputs": [
        {
          "name": "stdout",
          "output_type": "stream",
          "text": [
            "tensor([11, 12, 13])\n",
            "tensor([-9, -8, -7])\n",
            "tensor([10, 20, 30])\n",
            "tensor([1, 4, 9])\n",
            "tensor(14)\n",
            "tensor(14)\n"
          ]
        }
      ],
      "source": [
        "tensor = torch.tensor([1,2,3])\n",
        "print(tensor + 10) #torch.add(tensor, 10)\n",
        "print(tensor - 10) # torch.sub(tensor, 10)\n",
        "print(tensor * 10) # torch.mul(tensor,10)\n",
        "print(tensor * tensor) # elementwise\n",
        "print(tensor@tensor) # matrix multiplication\n",
        "print(torch.matmul(tensor, tensor)) #matrix multiplication"
      ]
    },
    {
      "cell_type": "code",
      "execution_count": 20,
      "metadata": {
        "colab": {
          "base_uri": "https://localhost:8080/"
        },
        "id": "OLP1QnYKiKcZ",
        "outputId": "5a5ea60b-080a-420e-aa2b-4329dbf0dbeb"
      },
      "outputs": [
        {
          "data": {
            "text/plain": [
              "tensor([[ 27.,  30.,  33.],\n",
              "        [ 61.,  68.,  75.],\n",
              "        [ 95., 106., 117.]])"
            ]
          },
          "execution_count": 20,
          "metadata": {},
          "output_type": "execute_result"
        }
      ],
      "source": [
        "tensor_A = torch.tensor([[1,2],\n",
        "                         [3,4],\n",
        "                         [5,6]], dtype=torch.float32)\n",
        "tensor_B = torch.tensor([[7,10],\n",
        "                         [8,11],\n",
        "                         [9,12]], dtype=torch.float32)\n",
        "#torch.matmul(tensor_A,tensor_B)\n",
        "torch.matmul(tensor_A, tensor_B.T) #torch.mm() or @ #.T means it is transposing B"
      ]
    },
    {
      "cell_type": "code",
      "execution_count": 21,
      "metadata": {
        "colab": {
          "base_uri": "https://localhost:8080/"
        },
        "id": "NvR3RImtjt0O",
        "outputId": "01724071-fbc0-4172-f075-2a0934ab54fe"
      },
      "outputs": [
        {
          "data": {
            "text/plain": [
              "torch.Size([3, 2])"
            ]
          },
          "execution_count": 21,
          "metadata": {},
          "output_type": "execute_result"
        }
      ],
      "source": [
        "tensor_A.shape\n",
        "tensor_B.shape"
      ]
    },
    {
      "cell_type": "code",
      "execution_count": null,
      "metadata": {
        "id": "0e3reQJxkI48"
      },
      "outputs": [],
      "source": []
    }
  ],
  "metadata": {
    "colab": {
      "provenance": [],
      "toc_visible": true
    },
    "kernelspec": {
      "display_name": "myenv",
      "language": "python",
      "name": "python3"
    },
    "language_info": {
      "codemirror_mode": {
        "name": "ipython",
        "version": 3
      },
      "file_extension": ".py",
      "mimetype": "text/x-python",
      "name": "python",
      "nbconvert_exporter": "python",
      "pygments_lexer": "ipython3",
      "version": "3.12.3"
    }
  },
  "nbformat": 4,
  "nbformat_minor": 0
}
