{
 "cells": [
  {
   "cell_type": "code",
   "execution_count": 1,
   "metadata": {},
   "outputs": [
    {
     "name": "stderr",
     "output_type": "stream",
     "text": [
      "/home/bigyan/Desktop/pytorch_for_deep_learning/myenv/lib/python3.12/site-packages/torch/_subclasses/functional_tensor.py:258: UserWarning: Failed to initialize NumPy: No module named 'numpy' (Triggered internally at ../torch/csrc/utils/tensor_numpy.cpp:84.)\n",
      "  cpu = _conversion_method_template(device=torch.device(\"cpu\"))\n"
     ]
    }
   ],
   "source": [
    "import torch"
   ]
  },
  {
   "cell_type": "code",
   "execution_count": 2,
   "metadata": {},
   "outputs": [
    {
     "data": {
      "text/plain": [
       "tensor([ 1.,  2.,  3.,  4.,  5.,  6.,  7.,  8.,  9., 10.])"
      ]
     },
     "execution_count": 2,
     "metadata": {},
     "output_type": "execute_result"
    }
   ],
   "source": [
    "X = torch.arange(1.,11.)\n",
    "X"
   ]
  },
  {
   "cell_type": "code",
   "execution_count": 3,
   "metadata": {},
   "outputs": [
    {
     "data": {
      "text/plain": [
       "(torch.Size([10]), 1, torch.float32)"
      ]
     },
     "execution_count": 3,
     "metadata": {},
     "output_type": "execute_result"
    }
   ],
   "source": [
    "X.shape,X.ndim,X.dtype"
   ]
  },
  {
   "cell_type": "code",
   "execution_count": 6,
   "metadata": {},
   "outputs": [
    {
     "data": {
      "text/plain": [
       "10"
      ]
     },
     "execution_count": 6,
     "metadata": {},
     "output_type": "execute_result"
    }
   ],
   "source": [
    "X.numel() #no of elements on the tensor"
   ]
  },
  {
   "cell_type": "code",
   "execution_count": 8,
   "metadata": {},
   "outputs": [
    {
     "data": {
      "text/plain": [
       "(2,\n",
       " torch.Size([5, 2]),\n",
       " tensor([[ 1.,  2.],\n",
       "         [ 3.,  4.],\n",
       "         [ 5.,  6.],\n",
       "         [ 7.,  8.],\n",
       "         [ 9., 10.]]))"
      ]
     },
     "execution_count": 8,
     "metadata": {},
     "output_type": "execute_result"
    }
   ],
   "source": [
    "X_reshape1 = X.reshape(5,2)\n",
    "X_reshape1.ndim,X_reshape1.shape,X_reshape1"
   ]
  },
  {
   "cell_type": "code",
   "execution_count": 9,
   "metadata": {},
   "outputs": [
    {
     "data": {
      "text/plain": [
       "(tensor([[[ 1.,  2.,  3.,  4.,  5.],\n",
       "          [ 6.,  7.,  8.,  9., 10.]]]),\n",
       " 3,\n",
       " torch.Size([1, 2, 5]))"
      ]
     },
     "execution_count": 9,
     "metadata": {},
     "output_type": "execute_result"
    }
   ],
   "source": [
    "X_reshape2 = X.reshape(1,2,5)\n",
    "X_reshape2,X_reshape2.ndim,X_reshape2.shape"
   ]
  },
  {
   "cell_type": "code",
   "execution_count": 16,
   "metadata": {},
   "outputs": [
    {
     "data": {
      "text/plain": [
       "(tensor([ 1.,  2.,  3.,  4.,  5.,  6.,  7.,  8.,  9., 10., 11., 12., 13., 14.,\n",
       "         15., 16., 17., 18., 19., 20., 21., 22., 23., 24., 25., 26., 27., 28.,\n",
       "         29., 30., 31., 32., 33., 34., 35., 36., 37., 38., 39., 40., 41., 42.,\n",
       "         43., 44., 45., 46., 47., 48., 49., 50., 51., 52., 53., 54., 55., 56.,\n",
       "         57., 58., 59., 60., 61., 62., 63., 64.]),\n",
       " torch.Size([64]),\n",
       " 1)"
      ]
     },
     "execution_count": 16,
     "metadata": {},
     "output_type": "execute_result"
    }
   ],
   "source": [
    "x2 = torch.arange(1.,65.)\n",
    "x2,x2.shape,x2.ndim"
   ]
  },
  {
   "cell_type": "code",
   "execution_count": 17,
   "metadata": {},
   "outputs": [
    {
     "data": {
      "text/plain": [
       "64"
      ]
     },
     "execution_count": 17,
     "metadata": {},
     "output_type": "execute_result"
    }
   ],
   "source": [
    "x2.numel()"
   ]
  },
  {
   "cell_type": "code",
   "execution_count": 18,
   "metadata": {},
   "outputs": [
    {
     "data": {
      "text/plain": [
       "tensor([[[ 1.,  2.,  3.,  4.],\n",
       "         [ 5.,  6.,  7.,  8.],\n",
       "         [ 9., 10., 11., 12.],\n",
       "         [13., 14., 15., 16.]],\n",
       "\n",
       "        [[17., 18., 19., 20.],\n",
       "         [21., 22., 23., 24.],\n",
       "         [25., 26., 27., 28.],\n",
       "         [29., 30., 31., 32.]],\n",
       "\n",
       "        [[33., 34., 35., 36.],\n",
       "         [37., 38., 39., 40.],\n",
       "         [41., 42., 43., 44.],\n",
       "         [45., 46., 47., 48.]],\n",
       "\n",
       "        [[49., 50., 51., 52.],\n",
       "         [53., 54., 55., 56.],\n",
       "         [57., 58., 59., 60.],\n",
       "         [61., 62., 63., 64.]]])"
      ]
     },
     "execution_count": 18,
     "metadata": {},
     "output_type": "execute_result"
    }
   ],
   "source": [
    "x2.reshape(4,4,4)"
   ]
  },
  {
   "cell_type": "code",
   "execution_count": 24,
   "metadata": {},
   "outputs": [
    {
     "data": {
      "text/plain": [
       "tensor([ 1.,  2.,  3.,  4.,  5.,  6.,  7.,  8.,  9., 10.])"
      ]
     },
     "execution_count": 24,
     "metadata": {},
     "output_type": "execute_result"
    }
   ],
   "source": [
    "X"
   ]
  },
  {
   "cell_type": "code",
   "execution_count": 25,
   "metadata": {},
   "outputs": [
    {
     "data": {
      "text/plain": [
       "(tensor([[[ 1.,  2.,  3.,  4.,  5.],\n",
       "          [ 6.,  7.,  8.,  9., 10.]]]),\n",
       " tensor([ 1.,  2.,  3.,  4.,  5.,  6.,  7.,  8.,  9., 10.]))"
      ]
     },
     "execution_count": 25,
     "metadata": {},
     "output_type": "execute_result"
    }
   ],
   "source": [
    "z=X.view(1,2,5)\n",
    "z,X"
   ]
  },
  {
   "cell_type": "code",
   "execution_count": 26,
   "metadata": {},
   "outputs": [
    {
     "data": {
      "text/plain": [
       "(tensor([[[ 5.,  2.,  3.,  4.,  5.],\n",
       "          [ 5.,  7.,  8.,  9., 10.]]]),\n",
       " tensor([ 5.,  2.,  3.,  4.,  5.,  5.,  7.,  8.,  9., 10.]))"
      ]
     },
     "execution_count": 26,
     "metadata": {},
     "output_type": "execute_result"
    }
   ],
   "source": [
    "z[:,:,0] = 5\n",
    "z,X"
   ]
  },
  {
   "cell_type": "code",
   "execution_count": 27,
   "metadata": {},
   "outputs": [
    {
     "data": {
      "text/plain": [
       "tensor([[ 5.],\n",
       "        [ 2.],\n",
       "        [ 3.],\n",
       "        [ 4.],\n",
       "        [ 5.],\n",
       "        [ 5.],\n",
       "        [ 7.],\n",
       "        [ 8.],\n",
       "        [ 9.],\n",
       "        [10.]])"
      ]
     },
     "execution_count": 27,
     "metadata": {},
     "output_type": "execute_result"
    }
   ],
   "source": [
    "b= X.reshape(10,1)\n",
    "b"
   ]
  },
  {
   "cell_type": "code",
   "execution_count": 28,
   "metadata": {},
   "outputs": [
    {
     "data": {
      "text/plain": [
       "tensor([ 5.,  2.,  3.,  4.,  5.,  5.,  7.,  8.,  9., 10.])"
      ]
     },
     "execution_count": 28,
     "metadata": {},
     "output_type": "execute_result"
    }
   ],
   "source": [
    "c=b.view(-1)\n",
    "c"
   ]
  },
  {
   "cell_type": "code",
   "execution_count": 30,
   "metadata": {},
   "outputs": [
    {
     "data": {
      "text/plain": [
       "(tensor([[[0.5818, 0.4617, 0.6364],\n",
       "          [0.7031, 0.4810, 0.4732],\n",
       "          [0.8316, 0.5628, 0.5610],\n",
       "          ...,\n",
       "          [0.1046, 0.3936, 0.9689],\n",
       "          [0.7735, 0.7037, 0.6111],\n",
       "          [0.6944, 0.5844, 0.0267]],\n",
       " \n",
       "         [[0.6519, 0.1367, 0.9424],\n",
       "          [0.0277, 0.8190, 0.3523],\n",
       "          [0.6280, 0.8637, 0.2607],\n",
       "          ...,\n",
       "          [0.8311, 0.1079, 0.6985],\n",
       "          [0.6505, 0.8306, 0.7682],\n",
       "          [0.3556, 0.8017, 0.1506]],\n",
       " \n",
       "         [[0.7481, 0.3582, 0.2295],\n",
       "          [0.0803, 0.5184, 0.4289],\n",
       "          [0.7543, 0.0680, 0.2673],\n",
       "          ...,\n",
       "          [0.6127, 0.5547, 0.9377],\n",
       "          [0.9517, 0.1244, 0.6098],\n",
       "          [0.6835, 0.5735, 0.2560]],\n",
       " \n",
       "         ...,\n",
       " \n",
       "         [[0.5746, 0.6906, 0.0451],\n",
       "          [0.3601, 0.3404, 0.4498],\n",
       "          [0.3721, 0.3794, 0.3576],\n",
       "          ...,\n",
       "          [0.1115, 0.0164, 0.1909],\n",
       "          [0.4075, 0.0320, 0.0709],\n",
       "          [0.9845, 0.3574, 0.7700]],\n",
       " \n",
       "         [[0.3958, 0.2332, 0.3272],\n",
       "          [0.0022, 0.4455, 0.0014],\n",
       "          [0.1714, 0.6975, 0.2036],\n",
       "          ...,\n",
       "          [0.1159, 0.7938, 0.4598],\n",
       "          [0.3955, 0.4938, 0.3277],\n",
       "          [0.0375, 0.9909, 0.0249]],\n",
       " \n",
       "         [[0.4969, 0.7565, 0.3225],\n",
       "          [0.6726, 0.5556, 0.1027],\n",
       "          [0.2279, 0.4758, 0.6089],\n",
       "          ...,\n",
       "          [0.2893, 0.5783, 0.1631],\n",
       "          [0.6373, 0.7655, 0.6234],\n",
       "          [0.0648, 0.5546, 0.3738]]]),\n",
       " 150528)"
      ]
     },
     "execution_count": 30,
     "metadata": {},
     "output_type": "execute_result"
    }
   ],
   "source": [
    "image = torch.rand(224,224,3)\n",
    "image,image.numel()"
   ]
  },
  {
   "cell_type": "code",
   "execution_count": 32,
   "metadata": {},
   "outputs": [
    {
     "data": {
      "text/plain": [
       "(150528, tensor([0.5818, 0.4617, 0.6364,  ..., 0.0648, 0.5546, 0.3738]))"
      ]
     },
     "execution_count": 32,
     "metadata": {},
     "output_type": "execute_result"
    }
   ],
   "source": [
    "image2=image.view(-1)\n",
    "image2.numel(),image2"
   ]
  },
  {
   "cell_type": "code",
   "execution_count": 46,
   "metadata": {},
   "outputs": [
    {
     "data": {
      "text/plain": [
       "(torch.Size([9]),\n",
       " tensor([[1., 1., 1.],\n",
       "         [2., 2., 2.],\n",
       "         [3., 3., 3.],\n",
       "         [4., 4., 4.],\n",
       "         [5., 5., 5.],\n",
       "         [6., 6., 6.],\n",
       "         [7., 7., 7.],\n",
       "         [8., 8., 8.],\n",
       "         [9., 9., 9.]]),\n",
       " torch.Size([9, 3]))"
      ]
     },
     "execution_count": 46,
     "metadata": {},
     "output_type": "execute_result"
    }
   ],
   "source": [
    "x=torch.arange(1.,10.)\n",
    "b=torch.stack([x,x,x],dim=1)\n",
    "x.shape,b,b.shape"
   ]
  },
  {
   "cell_type": "code",
   "execution_count": 52,
   "metadata": {},
   "outputs": [
    {
     "data": {
      "text/plain": [
       "(tensor([[[[[[0.3938, 0.2137, 0.9101, 0.2199, 0.8524, 0.3178]],\n",
       " \n",
       "            [[0.2099, 0.1217, 0.9298, 0.8004, 0.2339, 0.7085]],\n",
       " \n",
       "            [[0.2617, 0.0701, 0.0777, 0.9086, 0.9170, 0.9327]]],\n",
       " \n",
       " \n",
       "           [[[0.7574, 0.6271, 0.0805, 0.3496, 0.6396, 0.9898]],\n",
       " \n",
       "            [[0.1145, 0.8324, 0.7134, 0.3089, 0.9118, 0.7000]],\n",
       " \n",
       "            [[0.6973, 0.4448, 0.3338, 0.0997, 0.6959, 0.5314]]]],\n",
       " \n",
       " \n",
       " \n",
       "          [[[[0.0073, 0.9149, 0.1216, 0.3540, 0.1057, 0.1995]],\n",
       " \n",
       "            [[0.2030, 0.9662, 0.9200, 0.9892, 0.2467, 0.7573]],\n",
       " \n",
       "            [[0.0547, 0.8771, 0.1147, 0.3706, 0.4823, 0.0846]]],\n",
       " \n",
       " \n",
       "           [[[0.2960, 0.3762, 0.5428, 0.9664, 0.6878, 0.1687]],\n",
       " \n",
       "            [[0.5935, 0.3732, 0.9009, 0.4630, 0.4063, 0.1513]],\n",
       " \n",
       "            [[0.5339, 0.3041, 0.5023, 0.7311, 0.0842, 0.3459]]]],\n",
       " \n",
       " \n",
       " \n",
       "          [[[[0.9843, 0.6109, 0.8970, 0.8465, 0.1816, 0.1927]],\n",
       " \n",
       "            [[0.1075, 0.3620, 0.6196, 0.7436, 0.8683, 0.5163]],\n",
       " \n",
       "            [[0.5355, 0.0350, 0.3067, 0.4419, 0.4811, 0.3804]]],\n",
       " \n",
       " \n",
       "           [[[0.6964, 0.8139, 0.6611, 0.1273, 0.5594, 0.2344]],\n",
       " \n",
       "            [[0.2935, 0.6432, 0.2405, 0.7150, 0.5878, 0.6443]],\n",
       " \n",
       "            [[0.8896, 0.1257, 0.6920, 0.7290, 0.6473, 0.1941]]]],\n",
       " \n",
       " \n",
       " \n",
       "          [[[[0.9061, 0.6893, 0.6571, 0.7725, 0.5139, 0.6432]],\n",
       " \n",
       "            [[0.6216, 0.6050, 0.1036, 0.6663, 0.4168, 0.9469]],\n",
       " \n",
       "            [[0.3377, 0.0431, 0.4559, 0.5277, 0.3625, 0.1344]]],\n",
       " \n",
       " \n",
       "           [[[0.5542, 0.2835, 0.5989, 0.8627, 0.4553, 0.3832]],\n",
       " \n",
       "            [[0.2963, 0.7345, 0.1319, 0.7915, 0.1985, 0.8108]],\n",
       " \n",
       "            [[0.1523, 0.4032, 0.4060, 0.6202, 0.4773, 0.6137]]]]]]),\n",
       " 6,\n",
       " torch.Size([1, 4, 2, 3, 1, 6]))"
      ]
     },
     "execution_count": 52,
     "metadata": {},
     "output_type": "execute_result"
    }
   ],
   "source": [
    "random = torch.rand(1,4,2,3,1,6)\n",
    "random,random.ndim,random.shape"
   ]
  },
  {
   "cell_type": "code",
   "execution_count": 54,
   "metadata": {},
   "outputs": [
    {
     "data": {
      "text/plain": [
       "(tensor([[[[[0.3938, 0.2137, 0.9101, 0.2199, 0.8524, 0.3178],\n",
       "            [0.2099, 0.1217, 0.9298, 0.8004, 0.2339, 0.7085],\n",
       "            [0.2617, 0.0701, 0.0777, 0.9086, 0.9170, 0.9327]],\n",
       " \n",
       "           [[0.7574, 0.6271, 0.0805, 0.3496, 0.6396, 0.9898],\n",
       "            [0.1145, 0.8324, 0.7134, 0.3089, 0.9118, 0.7000],\n",
       "            [0.6973, 0.4448, 0.3338, 0.0997, 0.6959, 0.5314]]],\n",
       " \n",
       " \n",
       "          [[[0.0073, 0.9149, 0.1216, 0.3540, 0.1057, 0.1995],\n",
       "            [0.2030, 0.9662, 0.9200, 0.9892, 0.2467, 0.7573],\n",
       "            [0.0547, 0.8771, 0.1147, 0.3706, 0.4823, 0.0846]],\n",
       " \n",
       "           [[0.2960, 0.3762, 0.5428, 0.9664, 0.6878, 0.1687],\n",
       "            [0.5935, 0.3732, 0.9009, 0.4630, 0.4063, 0.1513],\n",
       "            [0.5339, 0.3041, 0.5023, 0.7311, 0.0842, 0.3459]]],\n",
       " \n",
       " \n",
       "          [[[0.9843, 0.6109, 0.8970, 0.8465, 0.1816, 0.1927],\n",
       "            [0.1075, 0.3620, 0.6196, 0.7436, 0.8683, 0.5163],\n",
       "            [0.5355, 0.0350, 0.3067, 0.4419, 0.4811, 0.3804]],\n",
       " \n",
       "           [[0.6964, 0.8139, 0.6611, 0.1273, 0.5594, 0.2344],\n",
       "            [0.2935, 0.6432, 0.2405, 0.7150, 0.5878, 0.6443],\n",
       "            [0.8896, 0.1257, 0.6920, 0.7290, 0.6473, 0.1941]]],\n",
       " \n",
       " \n",
       "          [[[0.9061, 0.6893, 0.6571, 0.7725, 0.5139, 0.6432],\n",
       "            [0.6216, 0.6050, 0.1036, 0.6663, 0.4168, 0.9469],\n",
       "            [0.3377, 0.0431, 0.4559, 0.5277, 0.3625, 0.1344]],\n",
       " \n",
       "           [[0.5542, 0.2835, 0.5989, 0.8627, 0.4553, 0.3832],\n",
       "            [0.2963, 0.7345, 0.1319, 0.7915, 0.1985, 0.8108],\n",
       "            [0.1523, 0.4032, 0.4060, 0.6202, 0.4773, 0.6137]]]]]),\n",
       " torch.Size([1, 4, 2, 3, 6]),\n",
       " 5)"
      ]
     },
     "execution_count": 54,
     "metadata": {},
     "output_type": "execute_result"
    }
   ],
   "source": [
    "random_squeezed = random.squeeze(dim = 4) #squeezing the 4th dimension\n",
    "random_squeezed,random_squeezed.shape,random_squeezed.ndim"
   ]
  },
  {
   "cell_type": "code",
   "execution_count": 55,
   "metadata": {},
   "outputs": [
    {
     "data": {
      "text/plain": [
       "(torch.Size([1, 4, 2, 3, 1, 6]), torch.Size([1, 4, 2, 3, 6]))"
      ]
     },
     "execution_count": 55,
     "metadata": {},
     "output_type": "execute_result"
    }
   ],
   "source": [
    "random.shape,random_squeezed.shape"
   ]
  },
  {
   "cell_type": "code",
   "execution_count": 56,
   "metadata": {},
   "outputs": [
    {
     "data": {
      "text/plain": [
       "(tensor([[[[[[0.3938, 0.2137, 0.9101, 0.2199, 0.8524, 0.3178]],\n",
       " \n",
       "            [[0.2099, 0.1217, 0.9298, 0.8004, 0.2339, 0.7085]],\n",
       " \n",
       "            [[0.2617, 0.0701, 0.0777, 0.9086, 0.9170, 0.9327]]],\n",
       " \n",
       " \n",
       "           [[[0.7574, 0.6271, 0.0805, 0.3496, 0.6396, 0.9898]],\n",
       " \n",
       "            [[0.1145, 0.8324, 0.7134, 0.3089, 0.9118, 0.7000]],\n",
       " \n",
       "            [[0.6973, 0.4448, 0.3338, 0.0997, 0.6959, 0.5314]]]],\n",
       " \n",
       " \n",
       " \n",
       "          [[[[0.0073, 0.9149, 0.1216, 0.3540, 0.1057, 0.1995]],\n",
       " \n",
       "            [[0.2030, 0.9662, 0.9200, 0.9892, 0.2467, 0.7573]],\n",
       " \n",
       "            [[0.0547, 0.8771, 0.1147, 0.3706, 0.4823, 0.0846]]],\n",
       " \n",
       " \n",
       "           [[[0.2960, 0.3762, 0.5428, 0.9664, 0.6878, 0.1687]],\n",
       " \n",
       "            [[0.5935, 0.3732, 0.9009, 0.4630, 0.4063, 0.1513]],\n",
       " \n",
       "            [[0.5339, 0.3041, 0.5023, 0.7311, 0.0842, 0.3459]]]],\n",
       " \n",
       " \n",
       " \n",
       "          [[[[0.9843, 0.6109, 0.8970, 0.8465, 0.1816, 0.1927]],\n",
       " \n",
       "            [[0.1075, 0.3620, 0.6196, 0.7436, 0.8683, 0.5163]],\n",
       " \n",
       "            [[0.5355, 0.0350, 0.3067, 0.4419, 0.4811, 0.3804]]],\n",
       " \n",
       " \n",
       "           [[[0.6964, 0.8139, 0.6611, 0.1273, 0.5594, 0.2344]],\n",
       " \n",
       "            [[0.2935, 0.6432, 0.2405, 0.7150, 0.5878, 0.6443]],\n",
       " \n",
       "            [[0.8896, 0.1257, 0.6920, 0.7290, 0.6473, 0.1941]]]],\n",
       " \n",
       " \n",
       " \n",
       "          [[[[0.9061, 0.6893, 0.6571, 0.7725, 0.5139, 0.6432]],\n",
       " \n",
       "            [[0.6216, 0.6050, 0.1036, 0.6663, 0.4168, 0.9469]],\n",
       " \n",
       "            [[0.3377, 0.0431, 0.4559, 0.5277, 0.3625, 0.1344]]],\n",
       " \n",
       " \n",
       "           [[[0.5542, 0.2835, 0.5989, 0.8627, 0.4553, 0.3832]],\n",
       " \n",
       "            [[0.2963, 0.7345, 0.1319, 0.7915, 0.1985, 0.8108]],\n",
       " \n",
       "            [[0.1523, 0.4032, 0.4060, 0.6202, 0.4773, 0.6137]]]]]]),\n",
       " torch.Size([1, 4, 2, 3, 1, 6]))"
      ]
     },
     "execution_count": 56,
     "metadata": {},
     "output_type": "execute_result"
    }
   ],
   "source": [
    "random_squeezed_unsqueezed = random_squeezed.unsqueeze(dim=4)\n",
    "random_squeezed_unsqueezed,random_squeezed_unsqueezed.shape "
   ]
  },
  {
   "cell_type": "code",
   "execution_count": 58,
   "metadata": {},
   "outputs": [
    {
     "data": {
      "text/plain": [
       "(torch.Size([3, 224, 224]), torch.Size([224, 224, 3]))"
      ]
     },
     "execution_count": 58,
     "metadata": {},
     "output_type": "execute_result"
    }
   ],
   "source": [
    "image_shape = torch.rand(224,224,3)\n",
    "image_shape_permute = image_shape.permute(2,0,1)\n",
    "image_shape_permute.shape,image_shape.shape"
   ]
  },
  {
   "cell_type": "code",
   "execution_count": 1,
   "metadata": {},
   "outputs": [],
   "source": [
    "import numpy as np"
   ]
  },
  {
   "cell_type": "code",
   "execution_count": null,
   "metadata": {},
   "outputs": [],
   "source": []
  }
 ],
 "metadata": {
  "kernelspec": {
   "display_name": ".venv",
   "language": "python",
   "name": "python3"
  },
  "language_info": {
   "codemirror_mode": {
    "name": "ipython",
    "version": 3
   },
   "file_extension": ".py",
   "mimetype": "text/x-python",
   "name": "python",
   "nbconvert_exporter": "python",
   "pygments_lexer": "ipython3",
   "version": "3.12.3"
  }
 },
 "nbformat": 4,
 "nbformat_minor": 2
}
